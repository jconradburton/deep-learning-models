{
  "cells": [
    {
      "cell_type": "markdown",
      "metadata": {
        "id": "14_BVNgzbttl"
      },
      "source": [
        "# Deep Learning Assignment 1"
      ]
    },
    {
      "cell_type": "markdown",
      "metadata": {
        "id": "gXr3KHHOb38C"
      },
      "source": [
        "Authors:\n",
        "1. Jordan Conrad-Burton\n",
        "2. Moshe Shem Tov"
      ]
    },
    {
      "cell_type": "code",
      "execution_count": null,
      "metadata": {
        "colab": {
          "base_uri": "https://localhost:8080/"
        },
        "id": "ccD6i0M4dcFh",
        "outputId": "189497ad-0b6a-44c3-8df5-124c887bed70"
      },
      "outputs": [
        {
          "output_type": "stream",
          "name": "stdout",
          "text": [
            "Requirement already satisfied: torch in /usr/local/lib/python3.10/dist-packages (2.3.0+cu121)\n",
            "Requirement already satisfied: torchvision in /usr/local/lib/python3.10/dist-packages (0.18.0+cu121)\n",
            "Requirement already satisfied: filelock in /usr/local/lib/python3.10/dist-packages (from torch) (3.14.0)\n",
            "Requirement already satisfied: typing-extensions>=4.8.0 in /usr/local/lib/python3.10/dist-packages (from torch) (4.11.0)\n",
            "Requirement already satisfied: sympy in /usr/local/lib/python3.10/dist-packages (from torch) (1.12)\n",
            "Requirement already satisfied: networkx in /usr/local/lib/python3.10/dist-packages (from torch) (3.3)\n",
            "Requirement already satisfied: jinja2 in /usr/local/lib/python3.10/dist-packages (from torch) (3.1.4)\n",
            "Requirement already satisfied: fsspec in /usr/local/lib/python3.10/dist-packages (from torch) (2023.6.0)\n",
            "Collecting nvidia-cuda-nvrtc-cu12==12.1.105 (from torch)\n",
            "  Using cached nvidia_cuda_nvrtc_cu12-12.1.105-py3-none-manylinux1_x86_64.whl (23.7 MB)\n",
            "Collecting nvidia-cuda-runtime-cu12==12.1.105 (from torch)\n",
            "  Using cached nvidia_cuda_runtime_cu12-12.1.105-py3-none-manylinux1_x86_64.whl (823 kB)\n",
            "Collecting nvidia-cuda-cupti-cu12==12.1.105 (from torch)\n",
            "  Using cached nvidia_cuda_cupti_cu12-12.1.105-py3-none-manylinux1_x86_64.whl (14.1 MB)\n",
            "Collecting nvidia-cudnn-cu12==8.9.2.26 (from torch)\n",
            "  Using cached nvidia_cudnn_cu12-8.9.2.26-py3-none-manylinux1_x86_64.whl (731.7 MB)\n",
            "Collecting nvidia-cublas-cu12==12.1.3.1 (from torch)\n",
            "  Using cached nvidia_cublas_cu12-12.1.3.1-py3-none-manylinux1_x86_64.whl (410.6 MB)\n",
            "Collecting nvidia-cufft-cu12==11.0.2.54 (from torch)\n",
            "  Using cached nvidia_cufft_cu12-11.0.2.54-py3-none-manylinux1_x86_64.whl (121.6 MB)\n",
            "Collecting nvidia-curand-cu12==10.3.2.106 (from torch)\n",
            "  Using cached nvidia_curand_cu12-10.3.2.106-py3-none-manylinux1_x86_64.whl (56.5 MB)\n",
            "Collecting nvidia-cusolver-cu12==11.4.5.107 (from torch)\n",
            "  Using cached nvidia_cusolver_cu12-11.4.5.107-py3-none-manylinux1_x86_64.whl (124.2 MB)\n",
            "Collecting nvidia-cusparse-cu12==12.1.0.106 (from torch)\n",
            "  Using cached nvidia_cusparse_cu12-12.1.0.106-py3-none-manylinux1_x86_64.whl (196.0 MB)\n",
            "Collecting nvidia-nccl-cu12==2.20.5 (from torch)\n",
            "  Using cached nvidia_nccl_cu12-2.20.5-py3-none-manylinux2014_x86_64.whl (176.2 MB)\n",
            "Collecting nvidia-nvtx-cu12==12.1.105 (from torch)\n",
            "  Using cached nvidia_nvtx_cu12-12.1.105-py3-none-manylinux1_x86_64.whl (99 kB)\n",
            "Requirement already satisfied: triton==2.3.0 in /usr/local/lib/python3.10/dist-packages (from torch) (2.3.0)\n",
            "Collecting nvidia-nvjitlink-cu12 (from nvidia-cusolver-cu12==11.4.5.107->torch)\n",
            "  Downloading nvidia_nvjitlink_cu12-12.5.40-py3-none-manylinux2014_x86_64.whl (21.3 MB)\n",
            "\u001b[2K     \u001b[90m━━━━━━━━━━━━━━━━━━━━━━━━━━━━━━━━━━━━━━━━\u001b[0m \u001b[32m21.3/21.3 MB\u001b[0m \u001b[31m74.6 MB/s\u001b[0m eta \u001b[36m0:00:00\u001b[0m\n",
            "\u001b[?25hRequirement already satisfied: numpy in /usr/local/lib/python3.10/dist-packages (from torchvision) (1.25.2)\n",
            "Requirement already satisfied: pillow!=8.3.*,>=5.3.0 in /usr/local/lib/python3.10/dist-packages (from torchvision) (9.4.0)\n",
            "Requirement already satisfied: MarkupSafe>=2.0 in /usr/local/lib/python3.10/dist-packages (from jinja2->torch) (2.1.5)\n",
            "Requirement already satisfied: mpmath>=0.19 in /usr/local/lib/python3.10/dist-packages (from sympy->torch) (1.3.0)\n",
            "Installing collected packages: nvidia-nvtx-cu12, nvidia-nvjitlink-cu12, nvidia-nccl-cu12, nvidia-curand-cu12, nvidia-cufft-cu12, nvidia-cuda-runtime-cu12, nvidia-cuda-nvrtc-cu12, nvidia-cuda-cupti-cu12, nvidia-cublas-cu12, nvidia-cusparse-cu12, nvidia-cudnn-cu12, nvidia-cusolver-cu12\n",
            "Successfully installed nvidia-cublas-cu12-12.1.3.1 nvidia-cuda-cupti-cu12-12.1.105 nvidia-cuda-nvrtc-cu12-12.1.105 nvidia-cuda-runtime-cu12-12.1.105 nvidia-cudnn-cu12-8.9.2.26 nvidia-cufft-cu12-11.0.2.54 nvidia-curand-cu12-10.3.2.106 nvidia-cusolver-cu12-11.4.5.107 nvidia-cusparse-cu12-12.1.0.106 nvidia-nccl-cu12-2.20.5 nvidia-nvjitlink-cu12-12.5.40 nvidia-nvtx-cu12-12.1.105\n"
          ]
        }
      ],
      "source": [
        "# pytorch installation\n",
        "!pip install torch torchvision"
      ]
    },
    {
      "cell_type": "code",
      "execution_count": null,
      "metadata": {
        "id": "eM4xspMdxHnK"
      },
      "outputs": [],
      "source": [
        "import torch\n",
        "import torchvision\n",
        "import numpy as np\n",
        "import math\n",
        "import torchvision.transforms as transforms\n",
        "from torchvision.datasets import MNIST\n",
        "from torch.utils.data import DataLoader\n",
        "from sklearn.model_selection import train_test_split\n",
        "import matplotlib.pyplot as plt"
      ]
    },
    {
      "cell_type": "markdown",
      "metadata": {
        "id": "vkmeOQgqcH7B"
      },
      "source": [
        "## 1. Forward Propagation"
      ]
    },
    {
      "cell_type": "code",
      "execution_count": null,
      "metadata": {
        "id": "69Dj6QFgYw28"
      },
      "outputs": [],
      "source": [
        "def initialize_parameters(layer_dims):\n",
        "  parameter_dictionary = {}\n",
        "  L = len(layer_dims)\n",
        "\n",
        "  for l in range(1, L):\n",
        "    initialized_W = np.random.randn(layer_dims[l], layer_dims[l - 1]).astype(np.double) * np.sqrt(2 / layer_dims[l - 1])\n",
        "    initialized_b = np.zeros((layer_dims[l], 1), dtype=np.double)\n",
        "    parameter_dictionary[l] = (initialized_W, initialized_b)\n",
        "\n",
        "  return parameter_dictionary"
      ]
    },
    {
      "cell_type": "code",
      "execution_count": null,
      "metadata": {
        "id": "kPlO_eEzcT6D"
      },
      "outputs": [],
      "source": [
        "def linear_forward(A, W, b):\n",
        "\n",
        "  A, W, b = A.double(), W.double(), b.double()\n",
        "  linear_cache = {'A': A, 'W': W, 'b': b}\n",
        "  Z = torch.matmul(W, A) + b\n",
        "\n",
        "  return Z, linear_cache"
      ]
    },
    {
      "cell_type": "code",
      "execution_count": null,
      "metadata": {
        "id": "oj1eVCZxcbkO"
      },
      "outputs": [],
      "source": [
        "def softmax(Z):\n",
        "  activation_cache = {'Z': Z}\n",
        "\n",
        "  exp_Z = torch.exp(Z)\n",
        "  A = exp_Z / torch.sum(exp_Z, axis=0, keepdims=True)\n",
        "\n",
        "  return A, activation_cache"
      ]
    },
    {
      "cell_type": "code",
      "execution_count": null,
      "metadata": {
        "collapsed": true,
        "id": "2GEz0JCac0y0"
      },
      "outputs": [],
      "source": [
        "def relu(Z):\n",
        "  activation_cache = {'Z': Z}\n",
        "  zeros = torch.zeros_like(Z)\n",
        "\n",
        "  A = torch.maximum(zeros, Z)\n",
        "\n",
        "  return A, activation_cache"
      ]
    },
    {
      "cell_type": "code",
      "execution_count": null,
      "metadata": {
        "id": "o575rivFc5Ay"
      },
      "outputs": [],
      "source": [
        "def linear_activation_forward(A_prev, W, B, activation):\n",
        "\n",
        "  Z, linear_cache = linear_forward(A_prev, W, B)\n",
        "  Z_cache = {}\n",
        "  cache = {}\n",
        "\n",
        "  if activation == 'softmax':\n",
        "    A, Z_cache = softmax(Z)\n",
        "\n",
        "  elif activation == 'relu':\n",
        "    A, Z_cache = relu(Z)\n",
        "\n",
        "  else:\n",
        "    raise Exception(\"Invalid activation function\")\n",
        "\n",
        "  cache = linear_cache | Z_cache\n",
        "\n",
        "  return A, cache"
      ]
    },
    {
      "cell_type": "code",
      "execution_count": null,
      "metadata": {
        "id": "a6ywDdzac9NF"
      },
      "outputs": [],
      "source": [
        "def L_model_forward(X, parameters, use_batchnorm):\n",
        "  cache_list = []\n",
        "  L = len(parameters)\n",
        "  A = torch.from_numpy(X).double()\n",
        "\n",
        "  if(use_batchnorm == True):\n",
        "    apply_batchnorm(A)\n",
        "\n",
        "  for i in range(1, L):\n",
        "    W = torch.from_numpy(parameters[i][0]).double()\n",
        "    b = torch.from_numpy(parameters[i][1]).double()\n",
        "    A, cache = linear_activation_forward(A, W, b, 'relu')\n",
        "    cache_list.append(cache)\n",
        "\n",
        "    if(use_batchnorm == True):\n",
        "      apply_batchnorm(A)\n",
        "\n",
        "  WL = torch.from_numpy(parameters[L][0]).double()\n",
        "  bL = torch.from_numpy(parameters[L][1]).double()\n",
        "  AL, cache = linear_activation_forward(A, WL, bL, 'softmax')\n",
        "  cache_list.append(cache)\n",
        "\n",
        "  return AL, cache_list"
      ]
    },
    {
      "cell_type": "code",
      "execution_count": null,
      "metadata": {
        "id": "CgF3m7ZNvOVz"
      },
      "outputs": [],
      "source": [
        "def get_weights_from_parameters(parameters):\n",
        "  weights_list = []\n",
        "\n",
        "  for l in range(1, len(parameters)+1):\n",
        "    weights_list.append(parameters[l][0])\n",
        "\n",
        "  return weights_list"
      ]
    },
    {
      "cell_type": "code",
      "execution_count": null,
      "metadata": {
        "id": "T0AzZ70LdEDf"
      },
      "outputs": [],
      "source": [
        "def compute_cost(AL, Y, parameters, epsilon):\n",
        "  m = Y.shape[1]\n",
        "  Y_tensor = torch.tensor(Y, dtype=torch.double)\n",
        "  weights = get_weights_from_parameters(parameters)\n",
        "\n",
        "  cross_entropy_cost = ((-(1/m)) * torch.sum(Y_tensor * torch.log(AL)))\n",
        "  l2_penalty = (epsilon / (2 * m)) * sum(torch.sum(torch.tensor(W)**2) for W in weights)\n",
        "\n",
        "  cost = cross_entropy_cost + l2_penalty\n",
        "\n",
        "  return cost"
      ]
    },
    {
      "cell_type": "code",
      "execution_count": null,
      "metadata": {
        "id": "aNQHK6T5dPYe"
      },
      "outputs": [],
      "source": [
        "def apply_batchnorm(A):\n",
        "  m = len(A)\n",
        "  epsilon = 1e-8\n",
        "  mu = A.mean(dim=0)\n",
        "  var = (1/m) * torch.sum(torch.pow(torch.sub(A, mu), 2))\n",
        "  denominator = math.sqrt(var + epsilon)\n",
        "\n",
        "  NA = (A - mu) / denominator\n",
        "\n",
        "  return NA"
      ]
    },
    {
      "cell_type": "markdown",
      "metadata": {
        "id": "HXArL5cZdWlT"
      },
      "source": [
        "## 2. Backward Propagation"
      ]
    },
    {
      "cell_type": "code",
      "execution_count": null,
      "metadata": {
        "id": "DPsoown7dY2F"
      },
      "outputs": [],
      "source": [
        "def linear_backward(dZ, cache, epsilon):\n",
        "\n",
        "  A_prev, W, b = cache['A'], cache['W'], cache['b']\n",
        "  m = A_prev.shape[1]\n",
        "\n",
        "  dA_prev = torch.matmul(W.t().double(), dZ.double())\n",
        "  dW = (1 / m) * torch.matmul(dZ.double(), A_prev.t().double()) + ((epsilon / m) * W)\n",
        "  db = (1 / m) * torch.sum(dZ.double(), axis=1, keepdim=True)\n",
        "\n",
        "  return dA_prev, dW, db"
      ]
    },
    {
      "cell_type": "code",
      "execution_count": null,
      "metadata": {
        "id": "5NthVH54ggSw"
      },
      "outputs": [],
      "source": [
        "def linear_activation_backward(dA, cache, activation, epsilon):\n",
        "\n",
        "  if activation == 'relu':\n",
        "    dZ = relu_backward(dA, cache['Z'])\n",
        "  elif activation == 'softmax':\n",
        "    dZ = softmax_backward(dA, cache['Z'])\n",
        "\n",
        "  dA_prev, dW, db = linear_backward(dZ, cache, epsilon)\n",
        "\n",
        "  return dA_prev, dW, db"
      ]
    },
    {
      "cell_type": "code",
      "execution_count": null,
      "metadata": {
        "id": "caFt9ZM7gvg9"
      },
      "outputs": [],
      "source": [
        "def relu_backward (dA, activation_cache): #dZ = dA*g'(z)\n",
        "\n",
        "  dZ = dA.clone()\n",
        "  dZ[activation_cache < 0] = 0\n",
        "\n",
        "  return dZ"
      ]
    },
    {
      "cell_type": "code",
      "execution_count": null,
      "metadata": {
        "id": "Vl2sqe87g1Dw"
      },
      "outputs": [],
      "source": [
        "# Note: softmax derivative specifically for cross-entropy loss\n",
        "\n",
        "def softmax_backward (dA, activation_cache):\n",
        "\n",
        "  exp_Z = torch.exp(activation_cache)\n",
        "  softmax_probabilities = exp_Z / torch.sum(exp_Z, axis=0, keepdims=True)\n",
        "\n",
        "  dZ = softmax_probabilities - dA\n",
        "\n",
        "  return dZ"
      ]
    },
    {
      "cell_type": "code",
      "execution_count": null,
      "metadata": {
        "id": "IcfWh7lHg52_"
      },
      "outputs": [],
      "source": [
        "def L_model_backward(AL, Y, caches, epsilon):\n",
        "\n",
        "  L = len(caches)\n",
        "  grads = {}\n",
        "\n",
        "  dA_prev, dW, db = linear_activation_backward(Y, caches[L-1], 'softmax', epsilon)\n",
        "  grads[f'dA{L}'] = dA_prev\n",
        "  grads[f'dW{L}'] = dW\n",
        "  grads[f'db{L}'] = db\n",
        "\n",
        "  for l in reversed(range(L-1)):\n",
        "    dA_prev, dW, db = linear_activation_backward(dA_prev, caches[l], 'relu', epsilon)\n",
        "    grads[f'dA{l+1}'] = dA_prev\n",
        "    grads[f'dW{l+1}'] = dW\n",
        "    grads[f'db{l+1}'] = db\n",
        "\n",
        "  return grads"
      ]
    },
    {
      "cell_type": "code",
      "execution_count": null,
      "metadata": {
        "id": "9XTqfkKcg9u9"
      },
      "outputs": [],
      "source": [
        "def update_parameters(parameters, grads, learning_rate):\n",
        "\n",
        "  L = len(parameters)\n",
        "\n",
        "  for l in range(1, L+1):\n",
        "    dW_numpy = grads[f'dW{l}'].detach().numpy()\n",
        "    db_numpy = grads[f'db{l}'].detach().numpy()\n",
        "    W, b = parameters[l]\n",
        "    W -= learning_rate * dW_numpy\n",
        "    b -= learning_rate * db_numpy\n",
        "    parameters[l] = (W, b)\n",
        "\n",
        "  return parameters"
      ]
    },
    {
      "cell_type": "markdown",
      "metadata": {
        "id": "L7jvHGqnhYR6"
      },
      "source": [
        "## 3. Network Implementation"
      ]
    },
    {
      "cell_type": "code",
      "execution_count": null,
      "metadata": {
        "id": "OD9UktWCh4Vs"
      },
      "outputs": [],
      "source": [
        "def L_layer_model(X, Y, layers_dims, learning_rate, num_iterations, batch_size, use_batchnorm=False, epsilon=0):\n",
        "\n",
        "  num_epochs = 10000\n",
        "  min_delta = 1e-4  # Minimum improvement threshold\n",
        "  best_val_cost = float('inf')\n",
        "  best_parameters = None\n",
        "  should_stop = False\n",
        "  parameters = initialize_parameters(layers_dims)\n",
        "  costs = []\n",
        "\n",
        "  X_train, X_val, Y_train, Y_val = train_test_split(X.T, Y.T, test_size=0.2, random_state=42)\n",
        "  X_train, Y_train = X_train.T, Y_train.T  # Transpose back to original shape\n",
        "  X_val, Y_val = X_val.T, Y_val.T  # Transpose back to original shape\n",
        "\n",
        "  m = X.shape[1]\n",
        "\n",
        "  for i in range(num_epochs):\n",
        "    print(\"Epoch number: \", i + 1)\n",
        "\n",
        "    # num iterations = num batches\n",
        "    for j in range(num_iterations): # loop is 1 epoch, goes over all batches\n",
        "      start = i * batch_size % m\n",
        "      end = min(start + batch_size, m)\n",
        "      X_batch = X[:, start:end]\n",
        "      Y_batch = Y[:, start:end]\n",
        "\n",
        "      AL, cache_list = L_model_forward(X_batch, parameters, use_batchnorm)\n",
        "      cost = compute_cost(AL, Y_batch, parameters, epsilon)\n",
        "      gradients = L_model_backward(AL, Y_batch, cache_list, epsilon)\n",
        "      parameters = update_parameters(parameters, gradients, learning_rate)\n",
        "\n",
        "      if (j + 1) % 100 == 0:\n",
        "        costs.append(cost.item())\n",
        "        print(f\"Cost after iteration {j + 1}: {cost.item()}\")\n",
        "\n",
        "        val_AL, _ = L_model_forward(X_val, parameters, use_batchnorm=False)\n",
        "        val_cost = compute_cost(val_AL, Y_val, parameters, epsilon=0).item()\n",
        "        print(f\"Epoch {i+1}, Validation cost after iteration {j + 1}: {val_cost}\")\n",
        "\n",
        "        if val_cost < best_val_cost - min_delta:\n",
        "          best_val_cost = val_cost\n",
        "          best_parameters = parameters\n",
        "        else:\n",
        "          print(f\"Early stopping after {i+1} epochs.\")\n",
        "          should_stop = True\n",
        "          break\n",
        "\n",
        "    if should_stop:\n",
        "      break\n",
        "\n",
        "  train_accuracy = Predict(X_train, Y_train, best_parameters)\n",
        "  val_accuracy = Predict(X_val, Y_val, best_parameters)\n",
        "  print(f\"Train Accuracy: {train_accuracy}\")\n",
        "  print(f\"Validation Accuracy: {val_accuracy}\")\n",
        "\n",
        "  return best_parameters, costs"
      ]
    },
    {
      "cell_type": "code",
      "execution_count": null,
      "metadata": {
        "id": "ieNhgfIRhjfM"
      },
      "outputs": [],
      "source": [
        "def Predict(X, Y, parameters):\n",
        "\n",
        "  AL, _ = L_model_forward(X, parameters, False)\n",
        "  predictions = torch.argmax(AL, axis=0) # takes the index of the maximum value of each column, columns are samples (examples) and rows are classifications\n",
        "\n",
        "  Y_tensor = torch.tensor(Y, dtype=torch.float32)\n",
        "  labels = torch.argmax(Y_tensor, axis=0) # transforms one hot encoded labels to class numbers - takes the class index\n",
        "\n",
        "  num_correct = torch.sum(predictions == labels)\n",
        "  total_samples = X.shape[1]\n",
        "  accuracy = num_correct.item() / total_samples\n",
        "\n",
        "  return accuracy"
      ]
    },
    {
      "cell_type": "markdown",
      "metadata": {
        "id": "4mgiGBqWhqwp"
      },
      "source": [
        "## 4. MNIST Dataset Classification"
      ]
    },
    {
      "cell_type": "code",
      "execution_count": null,
      "metadata": {
        "id": "8N-Nio5biCu6"
      },
      "outputs": [],
      "source": [
        "def convert_to_numpy(loader):\n",
        "\n",
        "  data_list, label_list = [], []\n",
        "\n",
        "  for data, labels in loader:\n",
        "\n",
        "    # Reshape data to (784, batch_size)\n",
        "    # Flatten each image to a vector of size 784 and transpose to shape (784, batch_size)\n",
        "    data_list.append(data.view(data.size(0), -1).T)\n",
        "\n",
        "    # Convert labels to one-hot encoding and transpose to shape (10, batch_size)\n",
        "    label_list.append(torch.nn.functional.one_hot(labels, num_classes=10).T)\n",
        "\n",
        "  # Concatenate all batches along the second dimension to form a complete dataset\n",
        "  data = torch.cat(data_list, dim=1).numpy()\n",
        "  labels = torch.cat(label_list, dim=1).numpy()\n",
        "\n",
        "  return data, labels\n",
        "\n",
        "def load_mnist_data():\n",
        "\n",
        "  transform = transforms.Compose([transforms.ToTensor(), transforms.Normalize((0.1307,), (0.3081,))])\n",
        "  train_dataset = torchvision.datasets.MNIST(root='./data', train=True, download=True, transform=transform)\n",
        "  test_dataset = torchvision.datasets.MNIST(root='./data', train=False, download=True, transform=transform)\n",
        "\n",
        "  train_loader = torch.utils.data.DataLoader(train_dataset, batch_size=64, shuffle=True)\n",
        "  test_loader = torch.utils.data.DataLoader(test_dataset, batch_size=64, shuffle=False)\n",
        "\n",
        "  return train_loader, test_loader"
      ]
    },
    {
      "cell_type": "code",
      "execution_count": null,
      "metadata": {
        "id": "XG2Nb6bIhrEY"
      },
      "outputs": [],
      "source": [
        "def run_L_layer_model(use_batchnorm=False, epsilon=0):\n",
        "\n",
        "  train_loader, test_loader = load_mnist_data()\n",
        "\n",
        "  X_train, Y_train = convert_to_numpy(train_loader)\n",
        "  X_test, Y_test = convert_to_numpy(test_loader)\n",
        "\n",
        "  layers_dims = [784, 20, 7, 5, 10]\n",
        "  learning_rate = 0.009\n",
        "  batch_size = 512\n",
        "  num_iterations = math.ceil(X_train.shape[1] / batch_size) # so that every method call of model is 1 epoch: num_iterations = num_batches\n",
        "\n",
        "  # Calculate test accuracy\n",
        "  parameters, costs = L_layer_model(X_train, Y_train, layers_dims, learning_rate, num_iterations, batch_size, use_batchnorm, epsilon)\n",
        "  test_accuracy = Predict(X_test, Y_test, parameters)\n",
        "  print(f\"Test Accuracy: {test_accuracy}\")"
      ]
    },
    {
      "cell_type": "code",
      "execution_count": null,
      "metadata": {
        "id": "jdSZXfGNxjqp",
        "colab": {
          "base_uri": "https://localhost:8080/"
        },
        "outputId": "1c94ba0a-1dc8-4671-e473-f8583793ef16"
      },
      "outputs": [
        {
          "output_type": "stream",
          "name": "stdout",
          "text": [
            "Epoch number:  1\n",
            "Cost after iteration 100: 1.5429660484537981\n",
            "Epoch 1, Validation cost after iteration 100: 1.8615657105766568\n",
            "Epoch number:  2\n",
            "Cost after iteration 100: 1.3299538436433815\n",
            "Epoch 2, Validation cost after iteration 100: 1.6081409097621446\n",
            "Epoch number:  3\n",
            "Cost after iteration 100: 1.0895663082039704\n",
            "Epoch 3, Validation cost after iteration 100: 1.4093262095455368\n",
            "Epoch number:  4\n",
            "Cost after iteration 100: 0.9467967939045498\n",
            "Epoch 4, Validation cost after iteration 100: 1.2860337897793317\n",
            "Epoch number:  5\n",
            "Cost after iteration 100: 0.8115160136391915\n",
            "Epoch 5, Validation cost after iteration 100: 1.2000723723826154\n",
            "Epoch number:  6\n",
            "Cost after iteration 100: 0.8217691273995305\n",
            "Epoch 6, Validation cost after iteration 100: 1.1349695654014609\n",
            "Epoch number:  7\n",
            "Cost after iteration 100: 0.6749867276607631\n",
            "Epoch 7, Validation cost after iteration 100: 1.0394683413926142\n",
            "Epoch number:  8\n",
            "Cost after iteration 100: 0.670621341484734\n",
            "Epoch 8, Validation cost after iteration 100: 0.9924034002862048\n",
            "Epoch number:  9\n",
            "Cost after iteration 100: 0.5288075155495191\n",
            "Epoch 9, Validation cost after iteration 100: 0.9480756801407623\n",
            "Epoch number:  10\n",
            "Cost after iteration 100: 0.5615607418656714\n",
            "Epoch 10, Validation cost after iteration 100: 0.8752692369275568\n",
            "Epoch number:  11\n",
            "Cost after iteration 100: 0.546177200448542\n",
            "Epoch 11, Validation cost after iteration 100: 0.853851524509336\n",
            "Epoch number:  12\n",
            "Cost after iteration 100: 0.5237144714879004\n",
            "Epoch 12, Validation cost after iteration 100: 0.7880849097482057\n",
            "Epoch number:  13\n",
            "Cost after iteration 100: 0.4220315093605574\n",
            "Epoch 13, Validation cost after iteration 100: 0.7741268232118601\n",
            "Epoch number:  14\n",
            "Cost after iteration 100: 0.4508625756712228\n",
            "Epoch 14, Validation cost after iteration 100: 0.7634170481068092\n",
            "Epoch number:  15\n",
            "Cost after iteration 100: 0.37669776698065205\n",
            "Epoch 15, Validation cost after iteration 100: 0.722651164472985\n",
            "Epoch number:  16\n",
            "Cost after iteration 100: 0.37823320938377175\n",
            "Epoch 16, Validation cost after iteration 100: 0.6927972897151251\n",
            "Epoch number:  17\n",
            "Cost after iteration 100: 0.35230446256655973\n",
            "Epoch 17, Validation cost after iteration 100: 0.6841217420259158\n",
            "Epoch number:  18\n",
            "Cost after iteration 100: 0.28914265811308204\n",
            "Epoch 18, Validation cost after iteration 100: 0.7046508323902391\n",
            "Early stopping after 18 epochs.\n",
            "Train Accuracy: 0.8498125\n",
            "Validation Accuracy: 0.8476666666666667\n",
            "Test Accuracy: 0.8466\n"
          ]
        }
      ],
      "source": [
        "run_L_layer_model()"
      ]
    },
    {
      "cell_type": "markdown",
      "metadata": {
        "id": "KZ73SDwyh1W9"
      },
      "source": [
        "## 5. MNIST Classification with Batchnorm"
      ]
    },
    {
      "cell_type": "code",
      "execution_count": null,
      "metadata": {
        "id": "qq_QZLCpqTxI",
        "colab": {
          "base_uri": "https://localhost:8080/"
        },
        "outputId": "f0a00fec-6fe3-4165-e488-4d3651ce8d1c"
      },
      "outputs": [
        {
          "output_type": "stream",
          "name": "stdout",
          "text": [
            "Epoch number:  1\n",
            "Cost after iteration 100: 1.7615829208407296\n",
            "Epoch 1, Validation cost after iteration 100: 1.9472112871809089\n",
            "Epoch number:  2\n",
            "Cost after iteration 100: 1.4905256016734625\n",
            "Epoch 2, Validation cost after iteration 100: 1.6538840573014781\n",
            "Epoch number:  3\n",
            "Cost after iteration 100: 1.1804419399111759\n",
            "Epoch 3, Validation cost after iteration 100: 1.4185988508303968\n",
            "Epoch number:  4\n",
            "Cost after iteration 100: 0.9601517517381171\n",
            "Epoch 4, Validation cost after iteration 100: 1.2721007154621962\n",
            "Epoch number:  5\n",
            "Cost after iteration 100: 0.9430796728435873\n",
            "Epoch 5, Validation cost after iteration 100: 1.151261143450322\n",
            "Epoch number:  6\n",
            "Cost after iteration 100: 0.8283248255482796\n",
            "Epoch 6, Validation cost after iteration 100: 1.090111426154644\n",
            "Epoch number:  7\n",
            "Cost after iteration 100: 0.7693069945459581\n",
            "Epoch 7, Validation cost after iteration 100: 1.0116331717556546\n",
            "Epoch number:  8\n",
            "Cost after iteration 100: 0.7677481638307788\n",
            "Epoch 8, Validation cost after iteration 100: 0.9419557112356733\n",
            "Epoch number:  9\n",
            "Cost after iteration 100: 0.6763601970238894\n",
            "Epoch 9, Validation cost after iteration 100: 0.9189468424579704\n",
            "Epoch number:  10\n",
            "Cost after iteration 100: 0.6524480637986875\n",
            "Epoch 10, Validation cost after iteration 100: 0.8864476712415466\n",
            "Epoch number:  11\n",
            "Cost after iteration 100: 0.6339426766017201\n",
            "Epoch 11, Validation cost after iteration 100: 0.8458676881447759\n",
            "Epoch number:  12\n",
            "Cost after iteration 100: 0.6195565008434485\n",
            "Epoch 12, Validation cost after iteration 100: 0.8156524226949438\n",
            "Epoch number:  13\n",
            "Cost after iteration 100: 0.5111371469945053\n",
            "Epoch 13, Validation cost after iteration 100: 0.793719778182541\n",
            "Epoch number:  14\n",
            "Cost after iteration 100: 0.5532367555859058\n",
            "Epoch 14, Validation cost after iteration 100: 0.7460595008010474\n",
            "Epoch number:  15\n",
            "Cost after iteration 100: 0.5188759898629074\n",
            "Epoch 15, Validation cost after iteration 100: 0.7165848020492364\n",
            "Epoch number:  16\n",
            "Cost after iteration 100: 0.42508707037029203\n",
            "Epoch 16, Validation cost after iteration 100: 0.6966808539866667\n",
            "Epoch number:  17\n",
            "Cost after iteration 100: 0.3937595851086352\n",
            "Epoch 17, Validation cost after iteration 100: 0.6675651006948591\n",
            "Epoch number:  18\n",
            "Cost after iteration 100: 0.3755802715873903\n",
            "Epoch 18, Validation cost after iteration 100: 0.6525326378669026\n",
            "Epoch number:  19\n",
            "Cost after iteration 100: 0.32250067176851815\n",
            "Epoch 19, Validation cost after iteration 100: 0.6205214221235326\n",
            "Epoch number:  20\n",
            "Cost after iteration 100: 0.3435597964782581\n",
            "Epoch 20, Validation cost after iteration 100: 0.6114846592905533\n",
            "Epoch number:  21\n",
            "Cost after iteration 100: 0.34573557508509845\n",
            "Epoch 21, Validation cost after iteration 100: 0.5899000151700906\n",
            "Epoch number:  22\n",
            "Cost after iteration 100: 0.3217911797236992\n",
            "Epoch 22, Validation cost after iteration 100: 0.5717473252423387\n",
            "Epoch number:  23\n",
            "Cost after iteration 100: 0.37790838231926355\n",
            "Epoch 23, Validation cost after iteration 100: 0.5714189382298804\n",
            "Epoch number:  24\n",
            "Cost after iteration 100: 0.2821461455433097\n",
            "Epoch 24, Validation cost after iteration 100: 0.5517566129594362\n",
            "Epoch number:  25\n",
            "Cost after iteration 100: 0.28604384512230374\n",
            "Epoch 25, Validation cost after iteration 100: 0.5499511487819237\n",
            "Epoch number:  26\n",
            "Cost after iteration 100: 0.2866440214805201\n",
            "Epoch 26, Validation cost after iteration 100: 0.5421897118644304\n",
            "Epoch number:  27\n",
            "Cost after iteration 100: 0.2589543859611384\n",
            "Epoch 27, Validation cost after iteration 100: 0.5414672836674174\n",
            "Epoch number:  28\n",
            "Cost after iteration 100: 0.2585920122008794\n",
            "Epoch 28, Validation cost after iteration 100: 0.5214358923545224\n",
            "Epoch number:  29\n",
            "Cost after iteration 100: 0.23050849720232353\n",
            "Epoch 29, Validation cost after iteration 100: 0.5232838480792346\n",
            "Early stopping after 29 epochs.\n",
            "Train Accuracy: 0.8724166666666666\n",
            "Validation Accuracy: 0.8715833333333334\n",
            "Test Accuracy: 0.8755\n"
          ]
        }
      ],
      "source": [
        "run_L_layer_model(use_batchnorm=True)"
      ]
    },
    {
      "cell_type": "markdown",
      "metadata": {
        "id": "sRbeDzqDh6QJ"
      },
      "source": [
        "## 6. L2 Norm Functionality Support"
      ]
    },
    {
      "cell_type": "code",
      "execution_count": null,
      "metadata": {
        "id": "CvRCQ3CFxUFx",
        "colab": {
          "base_uri": "https://localhost:8080/"
        },
        "outputId": "54a1264a-5b41-42c4-be95-3e8383bf740f"
      },
      "outputs": [
        {
          "output_type": "stream",
          "name": "stdout",
          "text": [
            "Epoch number:  1\n",
            "Cost after iteration 100: 1.875698045913519\n",
            "Epoch 1, Validation cost after iteration 100: 2.0168480368776733\n",
            "Epoch number:  2\n",
            "Cost after iteration 100: 1.6563347223189042\n",
            "Epoch 2, Validation cost after iteration 100: 1.78941981629645\n",
            "Epoch number:  3\n",
            "Cost after iteration 100: 1.294510863381273\n",
            "Epoch 3, Validation cost after iteration 100: 1.539376188477617\n",
            "Epoch number:  4\n",
            "Cost after iteration 100: 1.0749808259054328\n",
            "Epoch 4, Validation cost after iteration 100: 1.3426250690847294\n",
            "Epoch number:  5\n",
            "Cost after iteration 100: 0.9561507718029438\n",
            "Epoch 5, Validation cost after iteration 100: 1.227891088710574\n",
            "Epoch number:  6\n",
            "Cost after iteration 100: 0.8978764475092748\n",
            "Epoch 6, Validation cost after iteration 100: 1.1022418646298147\n",
            "Epoch number:  7\n",
            "Cost after iteration 100: 0.7684971947209629\n",
            "Epoch 7, Validation cost after iteration 100: 1.0104794167573072\n",
            "Epoch number:  8\n",
            "Cost after iteration 100: 0.6362421372777196\n",
            "Epoch 8, Validation cost after iteration 100: 0.9078205718448497\n",
            "Epoch number:  9\n",
            "Cost after iteration 100: 0.5197986725404328\n",
            "Epoch 9, Validation cost after iteration 100: 0.8264110287369667\n",
            "Epoch number:  10\n",
            "Cost after iteration 100: 0.45032452271030665\n",
            "Epoch 10, Validation cost after iteration 100: 0.7917592538738237\n",
            "Epoch number:  11\n",
            "Cost after iteration 100: 0.42403328247129723\n",
            "Epoch 11, Validation cost after iteration 100: 0.7663763236932333\n",
            "Epoch number:  12\n",
            "Cost after iteration 100: 0.36470304011610716\n",
            "Epoch 12, Validation cost after iteration 100: 0.723790104148136\n",
            "Epoch number:  13\n",
            "Cost after iteration 100: 0.3389027134178506\n",
            "Epoch 13, Validation cost after iteration 100: 0.6896291189085723\n",
            "Epoch number:  14\n",
            "Cost after iteration 100: 0.3324633045190618\n",
            "Epoch 14, Validation cost after iteration 100: 0.6428310382133132\n",
            "Epoch number:  15\n",
            "Cost after iteration 100: 0.30093298434634413\n",
            "Epoch 15, Validation cost after iteration 100: 0.6057681274496337\n",
            "Epoch number:  16\n",
            "Cost after iteration 100: 0.2743660029107636\n",
            "Epoch 16, Validation cost after iteration 100: 0.6006113419803749\n",
            "Epoch number:  17\n",
            "Cost after iteration 100: 0.25442947244545455\n",
            "Epoch 17, Validation cost after iteration 100: 0.5696081640387585\n",
            "Epoch number:  18\n",
            "Cost after iteration 100: 0.22104572435359718\n",
            "Epoch 18, Validation cost after iteration 100: 0.5402456509214364\n",
            "Epoch number:  19\n",
            "Cost after iteration 100: 0.22066550028583654\n",
            "Epoch 19, Validation cost after iteration 100: 0.548511764390582\n",
            "Early stopping after 19 epochs.\n",
            "Train Accuracy: 0.8578333333333333\n",
            "Validation Accuracy: 0.86\n",
            "Test Accuracy: 0.862\n"
          ]
        }
      ],
      "source": [
        "run_L_layer_model(epsilon=0.02)"
      ]
    },
    {
      "cell_type": "markdown",
      "metadata": {
        "id": "u99oVLlXek23"
      },
      "source": [
        "## 7. Plots"
      ]
    },
    {
      "cell_type": "code",
      "execution_count": null,
      "metadata": {
        "id": "rcUphjZ4Uy81"
      },
      "outputs": [],
      "source": [
        "def append_to_log_file(filename, data):\n",
        "  with open(filename, 'a') as file:\n",
        "      file.write(data + '\\n')"
      ]
    },
    {
      "cell_type": "code",
      "execution_count": null,
      "metadata": {
        "id": "iAcf5vMsVEYM"
      },
      "outputs": [],
      "source": [
        "def L_layer_model_for_plotting(X, Y, layers_dims, learning_rate, num_iterations, batch_size, use_batchnorm=False, epsilon=0):\n",
        "\n",
        "  num_epochs = 10000\n",
        "  min_delta = 1e-4  # Minimum improvement threshold\n",
        "  best_val_cost = float('inf')\n",
        "  best_parameters = None\n",
        "  should_stop = False\n",
        "  parameters = initialize_parameters(layers_dims)\n",
        "  costs = []\n",
        "\n",
        "  # for plotting\n",
        "  val_costs = []\n",
        "  average_epoch_cost = []\n",
        "  log_filename = f'training_log_batch_size_{batch_size}.txt'\n",
        "\n",
        "  X_train, X_val, Y_train, Y_val = train_test_split(X.T, Y.T, test_size=0.2, random_state=42)\n",
        "  X_train, Y_train = X_train.T, Y_train.T  # Transpose back to original shape\n",
        "  X_val, Y_val = X_val.T, Y_val.T  # Transpose back to original shape\n",
        "\n",
        "  m = X.shape[1]  # number of examples\n",
        "\n",
        "  for i in range(num_epochs):\n",
        "    print(\"Epoch number: \", i + 1)\n",
        "    epoch_cost = 0\n",
        "\n",
        "    # num iterations = num batches\n",
        "    for j in range(num_iterations): # loop is 1 epoch, goes over all batches\n",
        "      iteration_cost = 0\n",
        "\n",
        "      start = i * batch_size % m\n",
        "      end = min(start + batch_size, m)\n",
        "      X_batch = X[:, start:end]\n",
        "      Y_batch = Y[:, start:end]\n",
        "\n",
        "      AL, cache_list = L_model_forward(X_batch, parameters, use_batchnorm)\n",
        "      cost = compute_cost(AL, Y_batch, parameters, epsilon)\n",
        "      gradients = L_model_backward(AL, Y_batch, cache_list, epsilon)\n",
        "      parameters = update_parameters(parameters, gradients, learning_rate)\n",
        "      epoch_cost += cost.item()\n",
        "\n",
        "      if (j + 1) % 100 == 0:\n",
        "        costs.append(cost.item())\n",
        "        print(f\"Cost after iteration {j + 1}: {cost.item()}\")\n",
        "        log_data = f\"Epoch: {i + 1}, Iteration: {j + 1}, Cost: {cost.item()}\"\n",
        "        append_to_log_file(log_filename, log_data)\n",
        "\n",
        "        val_AL, _ = L_model_forward(X_val, parameters, use_batchnorm=False)\n",
        "        val_cost = compute_cost(val_AL, Y_val, parameters, epsilon=0).item()\n",
        "        val_costs.append(val_cost)\n",
        "        print(f\"Epoch {i+1}, Validation cost after iteration {j + 1}: {val_cost}\")\n",
        "\n",
        "        if val_cost < best_val_cost - min_delta:\n",
        "          best_val_cost = val_cost\n",
        "          best_parameters = parameters\n",
        "        else:\n",
        "          print(f\"Early stopping after {i+1} epochs.\")\n",
        "          should_stop = True\n",
        "          break\n",
        "\n",
        "    if should_stop:\n",
        "      break\n",
        "\n",
        "    current_avg_epoch_cost = epoch_cost / num_iterations\n",
        "    average_epoch_cost.append(current_avg_epoch_cost)\n",
        "    print(f\"Average cost for epoch {i + 1}: {current_avg_epoch_cost}\")\n",
        "\n",
        "  train_accuracy = Predict(X_train, Y_train, best_parameters)\n",
        "  val_accuracy = Predict(X_val, Y_val, best_parameters)\n",
        "\n",
        "  return best_parameters, costs, average_epoch_cost, val_costs, train_accuracy, val_accuracy"
      ]
    },
    {
      "cell_type": "code",
      "execution_count": null,
      "metadata": {
        "id": "61p6EMRTerMb",
        "colab": {
          "base_uri": "https://localhost:8080/",
          "height": 1000
        },
        "outputId": "9c86a4d9-1443-46c0-d69e-48026c72d4b6"
      },
      "outputs": [
        {
          "output_type": "stream",
          "name": "stdout",
          "text": [
            "Epoch number:  1\n",
            "Cost after iteration 100: 2.039381043167078\n",
            "Epoch 1, Validation cost after iteration 100: 2.1446318646034706\n",
            "Average cost for epoch 1: 2.143290919042318\n",
            "Epoch number:  2\n",
            "Cost after iteration 100: 1.7118294286012603\n",
            "Epoch 2, Validation cost after iteration 100: 1.9590723271083155\n",
            "Average cost for epoch 2: 1.8302806186342584\n",
            "Epoch number:  3\n",
            "Cost after iteration 100: 1.5732490464217659\n",
            "Epoch 3, Validation cost after iteration 100: 1.7730501756425137\n",
            "Average cost for epoch 3: 1.679824413878848\n",
            "Epoch number:  4\n",
            "Cost after iteration 100: 1.556508156773759\n",
            "Epoch 4, Validation cost after iteration 100: 1.6574433666954698\n",
            "Average cost for epoch 4: 1.6269892667649832\n",
            "Epoch number:  5\n",
            "Cost after iteration 100: 1.390691161089092\n",
            "Epoch 5, Validation cost after iteration 100: 1.5738362645843165\n",
            "Average cost for epoch 5: 1.4673567560126828\n",
            "Epoch number:  6\n",
            "Cost after iteration 100: 1.2876122795600395\n",
            "Epoch 6, Validation cost after iteration 100: 1.5322970510623517\n",
            "Average cost for epoch 6: 1.3552627610655368\n",
            "Epoch number:  7\n",
            "Cost after iteration 100: 1.2529108962929312\n",
            "Epoch 7, Validation cost after iteration 100: 1.4875615089606884\n",
            "Average cost for epoch 7: 1.316317171093909\n",
            "Epoch number:  8\n",
            "Cost after iteration 100: 1.2166343396622308\n",
            "Epoch 8, Validation cost after iteration 100: 1.4447352211908508\n",
            "Average cost for epoch 8: 1.2856854153700181\n",
            "Epoch number:  9\n",
            "Cost after iteration 100: 1.2427726970339563\n",
            "Epoch 9, Validation cost after iteration 100: 1.3954039788027381\n",
            "Average cost for epoch 9: 1.312620061703552\n",
            "Epoch number:  10\n",
            "Cost after iteration 100: 1.1985661140396828\n",
            "Epoch 10, Validation cost after iteration 100: 1.3569966434731606\n",
            "Average cost for epoch 10: 1.2651836274433867\n",
            "Epoch number:  11\n",
            "Cost after iteration 100: 1.1342260636896606\n",
            "Epoch 11, Validation cost after iteration 100: 1.326428286885575\n",
            "Average cost for epoch 11: 1.1897358243268448\n",
            "Epoch number:  12\n",
            "Cost after iteration 100: 1.155304648663007\n",
            "Epoch 12, Validation cost after iteration 100: 1.2943015697749487\n",
            "Average cost for epoch 12: 1.2208596396876625\n",
            "Epoch number:  13\n",
            "Cost after iteration 100: 1.064603335553624\n",
            "Epoch 13, Validation cost after iteration 100: 1.2646057764598917\n",
            "Average cost for epoch 13: 1.138647154515686\n",
            "Epoch number:  14\n",
            "Cost after iteration 100: 1.0508200471693918\n",
            "Epoch 14, Validation cost after iteration 100: 1.2563337163801265\n",
            "Average cost for epoch 14: 1.118750392281609\n",
            "Epoch number:  15\n",
            "Cost after iteration 100: 0.9735041292311654\n",
            "Epoch 15, Validation cost after iteration 100: 1.2022233054425155\n",
            "Average cost for epoch 15: 1.0469359543639323\n",
            "Epoch number:  16\n",
            "Cost after iteration 100: 0.9351069956514\n",
            "Epoch 16, Validation cost after iteration 100: 1.1731420537057458\n",
            "Average cost for epoch 16: 1.0063083638015995\n",
            "Epoch number:  17\n",
            "Cost after iteration 100: 0.9689637968300233\n",
            "Epoch 17, Validation cost after iteration 100: 1.1437393239933107\n",
            "Average cost for epoch 17: 1.0357747355465774\n",
            "Epoch number:  18\n",
            "Cost after iteration 100: 0.9045786904664936\n",
            "Epoch 18, Validation cost after iteration 100: 1.1371556392011992\n",
            "Average cost for epoch 18: 0.9833432588611841\n",
            "Epoch number:  19\n",
            "Cost after iteration 100: 0.9122732462092884\n",
            "Epoch 19, Validation cost after iteration 100: 1.099869289342092\n",
            "Average cost for epoch 19: 0.9849613659868279\n",
            "Epoch number:  20\n",
            "Cost after iteration 100: 0.8687894990294073\n",
            "Epoch 20, Validation cost after iteration 100: 1.0718491009886761\n",
            "Average cost for epoch 20: 0.9331564567558298\n",
            "Epoch number:  21\n",
            "Cost after iteration 100: 0.7958283225817612\n",
            "Epoch 21, Validation cost after iteration 100: 1.039367331475211\n",
            "Average cost for epoch 21: 0.8621172025285476\n",
            "Epoch number:  22\n",
            "Cost after iteration 100: 0.8499402048267845\n",
            "Epoch 22, Validation cost after iteration 100: 1.0034663082913158\n",
            "Average cost for epoch 22: 0.9391982031810137\n",
            "Epoch number:  23\n",
            "Cost after iteration 100: 0.7652852503028847\n",
            "Epoch 23, Validation cost after iteration 100: 1.0064445467748206\n",
            "Early stopping after 23 epochs.\n"
          ]
        },
        {
          "output_type": "display_data",
          "data": {
            "text/plain": [
              "<Figure size 640x480 with 1 Axes>"
            ],
            "image/png": "[encoded data removed]"
          },
          "metadata": {}
        },
        {
          "output_type": "display_data",
          "data": {
            "text/plain": [
              "<Figure size 640x480 with 1 Axes>"
            ],
            "image/png": "[encoded data removed]"
          },
          "metadata": {}
        },
        {
          "output_type": "display_data",
          "data": {
            "text/plain": [
              "<Figure size 640x480 with 1 Axes>"
            ],
            "image/png": "[encoded data removed]"
          },
          "metadata": {}
        },
        {
          "output_type": "display_data",
          "data": {
            "text/plain": [
              "<Figure size 640x480 with 1 Axes>"
            ],
            "image/png": "[encoded data removed]"
          },
          "metadata": {}
        },
        {
          "output_type": "display_data",
          "data": {
            "text/plain": [
              "<Figure size 640x480 with 1 Axes>"
            ],
            "image/png": "[encoded data removed]"
          },
          "metadata": {}
        },
        {
          "output_type": "display_data",
          "data": {
            "text/plain": [
              "<Figure size 640x480 with 1 Axes>"
            ],
            "image/png": "[encoded data removed]"
          },
          "metadata": {}
        },
        {
          "output_type": "stream",
          "name": "stdout",
          "text": [
            "Batch size: 512\n",
            "Train Accuracy: 0.6889791666666667\n",
            "Validation Accuracy: 0.6901666666666667\n",
            "Test Accuracy: 0.6883\n",
            "Final Train Cost: 0.7652852503028847\n",
            "Final Validation Cost: 1.0064445467748206\n",
            "------------------------------------------------------------\n",
            "\n"
          ]
        }
      ],
      "source": [
        "def run_experiments():\n",
        "  batch_sizes = [512] #[64, 128, 256, 512]\n",
        "  best_results = {}\n",
        "\n",
        "  for batch_size in batch_sizes:\n",
        "    best_cost = float('inf')\n",
        "    best_parameters = None\n",
        "    best_train_costs = None\n",
        "    best_average_epoch_costs = None\n",
        "    best_val_costs = None\n",
        "    best_train_accuracy = 0\n",
        "    best_val_accuracy = 0\n",
        "    best_test_accuracy = 0\n",
        "    initial_parameters = None\n",
        "    num_runs = [1]\n",
        "\n",
        "    for run in num_runs:\n",
        "      # Load data\n",
        "      train_loader, test_loader = load_mnist_data()\n",
        "\n",
        "      # Convert data to numpy arrays\n",
        "      X_train, Y_train = convert_to_numpy(train_loader)\n",
        "      X_test, Y_test = convert_to_numpy(test_loader)\n",
        "\n",
        "      layers_dims = [784, 20, 7, 5, 10]\n",
        "      learning_rate = 0.009\n",
        "\n",
        "      num_iterations = math.ceil(X_train.shape[1] / batch_size) # so that every method call of model is 1 epoch: num_iterations = num_batches\n",
        "\n",
        "      # Train model\n",
        "      parameters, train_costs, average_epoch_cost, val_costs, train_accuracy, val_accuracy= L_layer_model_for_plotting(X_train, Y_train, layers_dims, learning_rate, num_iterations, batch_size)\n",
        "\n",
        "      # Evaluate on train, validation, and test sets\n",
        "      test_accuracy = Predict(X_test, Y_test, parameters)\n",
        "\n",
        "      final_train_cost = train_costs[-1]\n",
        "      final_val_cost = val_costs[-1]\n",
        "\n",
        "      if final_val_cost < best_cost:\n",
        "        best_cost = final_val_cost\n",
        "        best_parameters = parameters\n",
        "        best_train_costs = train_costs\n",
        "        best_average_epoch_costs = average_epoch_cost\n",
        "        best_val_costs = val_costs\n",
        "        best_train_accuracy = train_accuracy\n",
        "        best_val_accuracy = val_accuracy\n",
        "        best_test_accuracy = test_accuracy\n",
        "\n",
        "    best_results[batch_size] = {\n",
        "        'parameters': best_parameters,\n",
        "        'train_costs': best_train_costs,\n",
        "        'average_epoch_costs': best_average_epoch_costs,\n",
        "        'val_costs': best_val_costs,\n",
        "        'train_accuracy': best_train_accuracy,\n",
        "        'val_accuracy': best_val_accuracy,\n",
        "        'test_accuracy': best_test_accuracy,\n",
        "    }\n",
        "\n",
        "    # Plotting train costs\n",
        "    plt.figure()\n",
        "    plt.plot(best_train_costs, label='Train Cost')\n",
        "    plt.xlabel('Iterations (x100)')\n",
        "    plt.ylabel('Cost')\n",
        "    plt.title(f'Training Cost for batch size {batch_size}')\n",
        "    plt.legend()\n",
        "    plt.savefig(f'train_costs_batch_size_{batch_size}.png')\n",
        "    plt.show()\n",
        "\n",
        "    # Plotting validation costs and average epoch costs\n",
        "    plt.figure()\n",
        "    plt.plot(best_val_costs, label='Validation Cost')\n",
        "    plt.xlabel('Iterations (x100)')\n",
        "    plt.ylabel('Cost')\n",
        "    plt.title(f'Validation Cost for batch size {batch_size}')\n",
        "    plt.legend()\n",
        "    plt.savefig(f'validation_costs_batch_size_{batch_size}.png')\n",
        "    plt.show()\n",
        "\n",
        "    # Plotting weight histograms\n",
        "    for l in range(1, len(best_parameters) + 1):\n",
        "      W, b = best_parameters[l]\n",
        "      plt.figure()\n",
        "      plt.hist(W.flatten(), bins=50)\n",
        "      plt.xlabel('Weight Values')\n",
        "      plt.ylabel('Frequency')\n",
        "      plt.title(f'Weight Distribution for Layer {l} (batch size {batch_size})')\n",
        "      plt.savefig(f'weights_histogram_layer_{l}_batch_size_{batch_size}.png')\n",
        "      plt.show()\n",
        "\n",
        "# Print best results for each batch size\n",
        "    for batch_size, result in best_results.items():\n",
        "      result_log = (\n",
        "          f'Batch size: {batch_size}\\n'\n",
        "          f'Train Accuracy: {result[\"train_accuracy\"]}\\n'\n",
        "          f'Validation Accuracy: {result[\"val_accuracy\"]}\\n'\n",
        "          f'Test Accuracy: {result[\"test_accuracy\"]}\\n'\n",
        "          f'Final Train Cost: {result[\"train_costs\"][-1]}\\n'\n",
        "          f'Final Validation Cost: {result[\"val_costs\"][-1]}\\n'\n",
        "          '------------------------------------------------------------\\n'\n",
        "      )\n",
        "\n",
        "    print(result_log)\n",
        "\n",
        "    append_to_log_file(f'results_{batch_size}.txt', result_log)\n",
        "\n",
        "run_experiments()"
      ]
    }
  ],
  "metadata": {
    "accelerator": "GPU",
    "colab": {
      "collapsed_sections": [
        "vkmeOQgqcH7B",
        "HXArL5cZdWlT"
      ],
      "gpuType": "T4",
      "machine_shape": "hm",
      "provenance": []
    },
    "kernelspec": {
      "display_name": "Python 3",
      "name": "python3"
    },
    "language_info": {
      "name": "python"
    }
  },
  "nbformat": 4,
  "nbformat_minor": 0
}